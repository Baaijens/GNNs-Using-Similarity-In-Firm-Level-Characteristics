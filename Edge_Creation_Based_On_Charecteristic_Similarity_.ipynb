{
  "nbformat": 4,
  "nbformat_minor": 0,
  "metadata": {
    "colab": {
      "provenance": []
    },
    "kernelspec": {
      "name": "python3",
      "display_name": "Python 3"
    },
    "language_info": {
      "name": "python"
    }
  },
  "cells": [
    {
      "cell_type": "markdown",
      "source": [
        "Set up OS"
      ],
      "metadata": {
        "id": "yaoPzCApEANp"
      }
    },
    {
      "cell_type": "code",
      "execution_count": null,
      "metadata": {
        "id": "StJF9NwPDvt6"
      },
      "outputs": [],
      "source": [
        "!pip install google-auth google-auth-oauthlib google-auth-httplib2\n",
        "!pip install google-api-python-client\n",
        "from google.colab import auth\n",
        "auth.authenticate_user()\n",
        "\n",
        "from google.colab import drive\n",
        "drive.mount('/content/drive')\n",
        "import pandas as pd\n",
        "import os\n",
        "os.chdir('/content/drive/My Drive')"
      ]
    },
    {
      "cell_type": "markdown",
      "source": [
        "# Load Panel Data"
      ],
      "metadata": {
        "id": "RGt4_qs8EC0D"
      }
    },
    {
      "cell_type": "code",
      "source": [
        "df = pd.read_csv(\"/content/drive/MyDrive/Min_Charecteristics_Tilburg_1963_ALLSAMPLE.csv\")"
      ],
      "metadata": {
        "id": "C2HBofADECMO"
      },
      "execution_count": 10,
      "outputs": []
    },
    {
      "cell_type": "markdown",
      "source": [
        "# Imports"
      ],
      "metadata": {
        "id": "QIRDP9blFRc1"
      }
    },
    {
      "cell_type": "code",
      "source": [
        "!pip install torch_geometric\n",
        "import pandas as pd\n",
        "import numpy as np\n",
        "import torch\n",
        "import os\n",
        "import matplotlib.pyplot as plt\n",
        "import matplotlib as mpl\n",
        "from torch_geometric.data import Data\n",
        "from scipy.spatial.distance import cdist\n"
      ],
      "metadata": {
        "collapsed": true,
        "id": "dAfXSSZQFTTl"
      },
      "execution_count": null,
      "outputs": []
    },
    {
      "cell_type": "markdown",
      "source": [
        "# Normalize data And lag feutures"
      ],
      "metadata": {
        "id": "7rqRZxQEEtAD"
      }
    },
    {
      "cell_type": "code",
      "source": [
        "df['Mom1m'] = df['excess_return']\n",
        "df['Y_excess_return'] = df['excess_return']\n",
        "# Remove duplicates while keeping the last occurrence\n",
        "df = df.sort_values('date').drop_duplicates(subset=['date', 'PERMNO'], keep='last')\n",
        "\n",
        "\n",
        "\n",
        "\n",
        "df = df.sort_values(by=['PERMNO', 'date'])\n",
        "# Shift the excess return by one month within each firm\n",
        "\n",
        "# List of column names to lag\n",
        "factor_columns = [\n",
        "    \"Beta\", \"RoE\", \"InvestPPEInv\", \"ShareIss5Y\", \"Accruals\", \"dNoa\",\n",
        "    \"GP\", \"AssetGrowth\",  \"Investment\", \"market_cap_adjusted\", \"excess_return\",\n",
        "    \"BM\", \"CompEquIss\", \"OperProf\",  \"MaxRet\", \"IndMom\", \"DolVol\" ,\"Mom1m\" , \"Mom6m\", \"Mom12m\"\n",
        "]\n",
        "\n",
        "\n",
        "# Loop through each column in the list and shift them forward by one period within each group\n",
        "for column in factor_columns:\n",
        "    df[column] = df.groupby('PERMNO')[column].shift(1)\n",
        "\n",
        "\n",
        "\n",
        "\n",
        "# List of column names to standardize\n",
        "factor_columns = [\n",
        "    \"Beta\", \"RoE\", \"InvestPPEInv\", \"ShareIss5Y\", \"Accruals\", \"dNoa\",\n",
        "    \"GP\", \"AssetGrowth\",  \"Investment\", \"market_cap_adjusted\",\n",
        "    \"BM\", \"CompEquIss\", \"OperProf\",  \"MaxRet\", \"IndMom\", \"DolVol\" ,\"Mom1m\" , \"Mom6m\", \"Mom12m\"\n",
        "]\n",
        "# Compute the mean and standard deviation for each factor column grouped by 'date'\n",
        "means = df.groupby('date')[factor_columns].transform('mean')\n",
        "stds = df.groupby('date')[factor_columns].transform('std')\n",
        "\n",
        "# Standardize the existing columns without creating new ones\n",
        "for column in factor_columns:\n",
        "    df[column] = (df[column] - means[column]) / stds[column]\n",
        "\n",
        "\n",
        "df = df.dropna()"
      ],
      "metadata": {
        "id": "2cfOXYAbExcZ"
      },
      "execution_count": 11,
      "outputs": []
    },
    {
      "cell_type": "markdown",
      "source": [
        "# Convert panel data to graph data for each month"
      ],
      "metadata": {
        "id": "k7VchT3YE-tG"
      }
    },
    {
      "cell_type": "markdown",
      "source": [
        "# Using Euclidean Distance"
      ],
      "metadata": {
        "id": "_KCH-S9eFEzd"
      }
    },
    {
      "cell_type": "markdown",
      "source": [
        "Function construct_graph_with_absolute_correlation to construct the graphs based on pairwise simularity between firm and their characteristics, based on Euclidean distance."
      ],
      "metadata": {
        "id": "LRx_kdX7FnKJ"
      }
    },
    {
      "cell_type": "code",
      "source": [
        "import os\n",
        "import pandas as pd\n",
        "import numpy as np\n",
        "import torch\n",
        "from torch_geometric.data import Data\n",
        "\n",
        "def construct_graph_with_absolute_correlation(df, factor_columns, return_column, W, theta):\n",
        "    # Store the original date format\n",
        "    original_dates = pd.to_datetime(df['date'])\n",
        "\n",
        "    # Dynamic directory name based on W and theta\n",
        "    save_dir = f'Corrsaved(absolute)_graphs_W{W}_theta{theta}'\n",
        "    if not os.path.exists(save_dir):\n",
        "        os.makedirs(save_dir)\n",
        "\n",
        "    # Convert 'date' column to integer format\n",
        "    df['formatted_date'] = original_dates.dt.strftime('%Y%m%d').astype(int)\n",
        "    unique_dates = sorted(df['formatted_date'].unique())\n",
        "\n",
        "    # Loop over each date starting from the Wth date to ensure a full window\n",
        "    for i in range(W - 1, len(unique_dates)):\n",
        "        current_date = unique_dates[i]\n",
        "        window_dates = unique_dates[i - W + 1:i + 1]\n",
        "        window_df = df[df['formatted_date'].isin(window_dates)]\n",
        "\n",
        "        # Skip this iteration if required columns are missing\n",
        "        if 'PERMNO' not in window_df.columns or return_column not in window_df.columns:\n",
        "            continue\n",
        "\n",
        "        # Create pivot table for the return column\n",
        "        pivot_df = window_df.pivot(index='formatted_date', columns='PERMNO', values=return_column)\n",
        "        correlation_matrix = pivot_df.corr().values\n",
        "\n",
        "        # Get absolute values of the correlation matrix\n",
        "        abs_corr = np.abs(correlation_matrix)\n",
        "        edge_indices = np.where((abs_corr > theta) & (np.eye(len(df['PERMNO'].unique()), dtype=bool) == False))\n",
        "\n",
        "        # Convert edge indices and weights to tensors\n",
        "        edge_index = torch.tensor(np.array(edge_indices), dtype=torch.long)\n",
        "        edge_weights = torch.tensor(abs_corr[edge_indices], dtype=torch.float)\n",
        "\n",
        "        # Get the latest data for the current date\n",
        "        latest_df = df[df['formatted_date'] == current_date]\n",
        "        if 'PERMNO' in latest_df.columns:\n",
        "            # Prepare node features tensor\n",
        "            latest_attributes = latest_df[['PERMNO'] + factor_columns].set_index('PERMNO').reindex(df['PERMNO'].unique())\n",
        "            node_features_tensor = torch.tensor(latest_attributes.drop(columns='PERMNO', errors='ignore').values, dtype=torch.float)\n",
        "            permno_tensor = torch.tensor(latest_attributes.index.values, dtype=torch.int)\n",
        "\n",
        "            # Ensure 'date' is also saved as a tensor\n",
        "            date_tensor = torch.tensor([current_date] * len(latest_attributes), dtype=torch.long)\n",
        "\n",
        "            # Create graph data object\n",
        "            graph_data = Data(x=node_features_tensor, edge_index=edge_index, edge_attr=edge_weights, permno=permno_tensor, date=date_tensor)\n",
        "            filename = f\"CorrGraph_{current_date}_W{W}_theta{theta}.pt\"\n",
        "            filepath = os.path.join(save_dir, filename)\n",
        "            torch.save(graph_data, filepath)\n",
        "            print(f\"Graph for {current_date} saved to {filepath}\")\n",
        "            print(f\"Graph for {current_date}: {len(df['PERMNO'].unique())} nodes, {edge_index.size(1) // 2} edges\")\n",
        "        else:\n",
        "            print(f\"Missing 'PERMNO' in latest data for {current_date}\")\n",
        "\n",
        "    # Cleanup to avoid confusion\n",
        "    df.drop('formatted_date', axis=1, inplace=True)\n",
        "\n",
        "\n",
        "# Define the return column\n",
        "return_column = \"excess_return\"\n"
      ],
      "metadata": {
        "id": "9JpH5Vn2FJcU"
      },
      "execution_count": 5,
      "outputs": []
    },
    {
      "cell_type": "markdown",
      "source": [
        "Call the Function"
      ],
      "metadata": {
        "id": "sDj0cCIoGAyw"
      }
    },
    {
      "cell_type": "code",
      "source": [
        "\n",
        "factor_columns = [\n",
        "    \"Beta\", \"RoE\", \"InvestPPEInv\", \"ShareIss5Y\", \"Accruals\", \"dNoa\",\n",
        "    \"GP\", \"AssetGrowth\",  \"Investment\", \"market_cap_adjusted\",\n",
        "    \"BM\", \"CompEquIss\", \"OperProf\",  \"MaxRet\", \"IndMom\", \"DolVol\" ,\"Mom1m\" , \"Mom6m\", \"Mom12m\", \"Y_excess_return\"]\n",
        "factor_columns_for_similarity = [col for col in factor_columns if col != 'Y_excess_return']\n",
        "W = 24  # Window size\n",
        "sigmas = [4,9]  # Example sigma values\n",
        "thetas = [0.00001, 0.01, 0.1, 0.2, 0.3, 0.4, 0.5, 0.6, 0.7, 0.75, 0.8, 0.9]  # Example theta values\n",
        "\n",
        "optimized_construct_graph_aligned_pytorch(df, factor_columns, factor_columns_for_similarity, W, sigmas, thetas)\n"
      ],
      "metadata": {
        "id": "cANpXzIuGCov"
      },
      "execution_count": null,
      "outputs": []
    },
    {
      "cell_type": "markdown",
      "source": [
        "# Using Cosine Simularity"
      ],
      "metadata": {
        "id": "nO_xCoYtGMzx"
      }
    },
    {
      "cell_type": "markdown",
      "source": [
        "Function for cosine simularity is defined here: construct_graph_cosine_similarity\n"
      ],
      "metadata": {
        "id": "doqehN22HpXh"
      }
    },
    {
      "cell_type": "code",
      "source": [
        "def construct_graph_cosine_similarity(df_original, factor_columns, factor_columns_for_similarity, W_values, percentile_thresholds):\n",
        "    # Loop over different window sizes (W) and percentile thresholds\n",
        "    for W in W_values:\n",
        "        for percentile_threshold in percentile_thresholds:\n",
        "            # Convert 'date' column to datetime format and create a save directory\n",
        "            original_dates = pd.to_datetime(df_original['date'])\n",
        "            save_dir = f\"Pair-cosine(1963)_Min_FILTERED_W{W}_Percentile{percentile_threshold}\"\n",
        "            if not os.path.exists(save_dir):\n",
        "                os.makedirs(save_dir)\n",
        "\n",
        "            df = df_original.copy()  # Use a copy to preserve the original df\n",
        "            df['date'] = original_dates.dt.strftime('%Y%m%d').astype(int)  # Convert dates to integer format\n",
        "            unique_dates = sorted(df['date'].unique())  # Get unique dates\n",
        "\n",
        "            all_edge_weights = []  # Collect all edge weights for histogram\n",
        "\n",
        "            # Iterate over each date in the window\n",
        "            for i in range(W - 1, len(unique_dates)):\n",
        "                current_date = unique_dates[i]\n",
        "                current_firms = df[df['date'] == current_date]\n",
        "\n",
        "                # Define the date window and filter the DataFrame\n",
        "                window_dates = unique_dates[i - W + 1:i + 1]\n",
        "                window_df = df[df['date'].isin(window_dates) & df['PERMNO'].isin(current_firms['PERMNO'])]\n",
        "\n",
        "                if not window_df.empty:\n",
        "                    unique_permnos = current_firms['PERMNO'].unique()\n",
        "                    permno_to_index = {permno: idx for idx, permno in enumerate(unique_permnos)}\n",
        "\n",
        "                    edge_index = []\n",
        "                    edge_weights = []\n",
        "\n",
        "                    cosine_similarity_sum = np.zeros((len(unique_permnos), len(unique_permnos)))\n",
        "\n",
        "                    # Calculate cosine similarity for each date in the window\n",
        "                    for window_date in window_dates:\n",
        "                        date_df = window_df[window_df['date'] == window_date]\n",
        "                        if not date_df.empty:\n",
        "                            feature_values = date_df[factor_columns_for_similarity].values\n",
        "                            norms = np.linalg.norm(feature_values, axis=1)\n",
        "                            normalized_features = feature_values / norms[:, np.newaxis]\n",
        "                            cosine_similarity = np.dot(normalized_features, normalized_features.T)\n",
        "                            np.fill_diagonal(cosine_similarity, 0)  # Remove self-loops\n",
        "\n",
        "                            # Sum the cosine similarities over the window\n",
        "                            for i, permno_i in enumerate(date_df['PERMNO'].values):\n",
        "                                for j, permno_j in enumerate(date_df['PERMNO'].values):\n",
        "                                    if i < j:\n",
        "                                        index_i = permno_to_index[permno_i]\n",
        "                                        index_j = permno_to_index[permno_j]\n",
        "                                        cosine_similarity_sum[index_i, index_j] += cosine_similarity[i, j]\n",
        "                                        cosine_similarity_sum[index_j, index_i] += cosine_similarity[i, j]\n",
        "\n",
        "                    # Average cosine similarity over the window\n",
        "                    avg_cosine_similarity = cosine_similarity_sum / W\n",
        "                    all_edge_weights.extend(avg_cosine_similarity.flatten())\n",
        "\n",
        "                    # Calculate dynamic threshold based on absolute values farthest from zero\n",
        "                    dynamic_theta = np.percentile(np.abs(avg_cosine_similarity), 100 - percentile_threshold)\n",
        "\n",
        "                    # Create edges based on the threshold\n",
        "                    for i in range(len(unique_permnos)):\n",
        "                        for j in range(i + 1, len(unique_permnos)):\n",
        "                            weight = avg_cosine_similarity[i, j]\n",
        "                            if np.abs(weight) > dynamic_theta:\n",
        "                                edge_index.append([i, j])\n",
        "                                edge_index.append([j, i])\n",
        "                                edge_weights.extend([weight, weight])\n",
        "\n",
        "                    # Convert edges and weights to tensors\n",
        "                    edge_index_tensor = torch.tensor(edge_index, dtype=torch.long).t().contiguous()\n",
        "                    edge_attr_tensor = torch.tensor(edge_weights, dtype=torch.float)\n",
        "                    latest_attributes = window_df[window_df['date'] == current_date].groupby('PERMNO').last()[factor_columns]\n",
        "                    node_features_tensor = torch.tensor(latest_attributes.values, dtype=torch.float)\n",
        "\n",
        "                    # Create graph data object\n",
        "                    graph_data = Data(x=node_features_tensor, edge_index=edge_index_tensor, edge_attr=edge_attr_tensor)\n",
        "                    graph_data.permno = torch.tensor(latest_attributes.index.tolist(), dtype=torch.long)\n",
        "                    graph_data.date = torch.tensor([current_date] * len(latest_attributes), dtype=torch.long)\n",
        "\n",
        "                    # Save the graph data to a file\n",
        "                    filename = f\"Pair-cosine(1963)_Min_FILTERED_{current_date}_W{W}_Percentile{percentile_threshold}_Abs.pt\"\n",
        "                    filepath = os.path.join(save_dir, filename)\n",
        "                    torch.save(graph_data, filepath)\n",
        "                    print(f\"Graph for {current_date}: {graph_data.num_nodes} nodes, {graph_data.num_edges // 2} edges saved to {filepath}\")\n",
        "\n",
        "            # Plot and save histogram of all edge weights\n",
        "            mpl.style.use('seaborn-whitegrid')\n",
        "            plt.rcParams['font.family'] = 'Arial'\n",
        "            plt.rcParams['font.size'] = 12\n",
        "\n",
        "            plt.figure(figsize=(8, 5))\n",
        "            plt.hist(all_edge_weights, bins=50, color='grey', alpha=0.6)\n",
        "\n",
        "            plt.title(f'Distribution of Absolute Edge Weights for W={W} and Percentile={percentile_threshold}', fontsize=14, fontweight='bold')\n",
        "            plt.xlabel('Absolute Edge Weight', fontsize=12)\n",
        "            plt.ylabel('Frequency', fontsize=12)\n",
        "\n",
        "            plt.grid(True, linestyle='--', linewidth=0.5, color='gray', alpha=0.5)\n",
        "            plt.tight_layout()\n",
        "            plt.show()"
      ],
      "metadata": {
        "id": "rYK1rIOFGMPU"
      },
      "execution_count": 7,
      "outputs": []
    },
    {
      "cell_type": "markdown",
      "source": [
        "Call the Function specifying the rolling window size (W), and the Percentile tresholds."
      ],
      "metadata": {
        "id": "AUn25xcYHxLN"
      }
    },
    {
      "cell_type": "code",
      "source": [
        "\n",
        "factor_columns = [\n",
        "    \"Beta\", \"RoE\", \"InvestPPEInv\", \"ShareIss5Y\", \"Accruals\", \"dNoa\",\n",
        "    \"GP\", \"AssetGrowth\", \"Investment\", \"market_cap_adjusted\",\n",
        "    \"BM\", \"CompEquIss\", \"OperProf\", \"MaxRet\", \"IndMom\", \"DolVol\", \"Mom1m\", \"Mom6m\", \"Mom12m\", \"Y_excess_return\"]\n",
        "factor_columns_for_similarity = [col for col in factor_columns if col != 'Y_excess_return']\n",
        "W_values = [12, 24, 36, 48, 60]  # Different window sizes to iterate over\n",
        "percentile_thresholds = [10, 20, 30, 40, 50, 60, 80, 90, 100]  # Different percentile thresholds to iterate over\n",
        "\n",
        "construct_graph_cosine_similarity(df, factor_columns, factor_columns_for_similarity, W_values, percentile_thresholds)\n"
      ],
      "metadata": {
        "id": "NQG199w8Hbdq"
      },
      "execution_count": null,
      "outputs": []
    }
  ]
}