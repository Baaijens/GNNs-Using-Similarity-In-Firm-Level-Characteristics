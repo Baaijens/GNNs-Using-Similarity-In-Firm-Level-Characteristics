{
  "nbformat": 4,
  "nbformat_minor": 0,
  "metadata": {
    "colab": {
      "provenance": []
    },
    "kernelspec": {
      "name": "python3",
      "display_name": "Python 3"
    },
    "language_info": {
      "name": "python"
    }
  },
  "cells": [
    {
      "cell_type": "markdown",
      "source": [
        "Set up OS"
      ],
      "metadata": {
        "id": "yaoPzCApEANp"
      }
    },
    {
      "cell_type": "code",
      "execution_count": null,
      "metadata": {
        "id": "StJF9NwPDvt6"
      },
      "outputs": [],
      "source": [
        "!pip install google-auth google-auth-oauthlib google-auth-httplib2\n",
        "!pip install google-api-python-client\n",
        "from google.colab import auth\n",
        "auth.authenticate_user()\n",
        "\n",
        "from google.colab import drive\n",
        "drive.mount('/content/drive')\n",
        "import pandas as pd\n",
        "import os\n",
        "os.chdir('/content/drive/My Drive')"
      ]
    },
    {
      "cell_type": "markdown",
      "source": [
        "# Load Panel Data"
      ],
      "metadata": {
        "id": "RGt4_qs8EC0D"
      }
    },
    {
      "cell_type": "code",
      "source": [
        "df = pd.read_csv(\"/content/drive/MyDrive/Min_Charecteristics_Tilburg_1963_ALLSAMPLE.csv\")"
      ],
      "metadata": {
        "id": "C2HBofADECMO"
      },
      "execution_count": 2,
      "outputs": []
    },
    {
      "cell_type": "markdown",
      "source": [
        "# Imports"
      ],
      "metadata": {
        "id": "QIRDP9blFRc1"
      }
    },
    {
      "cell_type": "code",
      "source": [
        "!pip install torch_geometric\n",
        "import pandas as pd\n",
        "import numpy as np\n",
        "import torch\n",
        "import os\n",
        "from torch_geometric.data import Data\n"
      ],
      "metadata": {
        "id": "dAfXSSZQFTTl",
        "colab": {
          "base_uri": "https://localhost:8080/"
        },
        "outputId": "de9bde6b-cfb4-471e-96fb-9f7a6ad72470"
      },
      "execution_count": 3,
      "outputs": [
        {
          "output_type": "stream",
          "name": "stdout",
          "text": [
            "Collecting torch_geometric\n",
            "  Downloading torch_geometric-2.5.3-py3-none-any.whl (1.1 MB)\n",
            "\u001b[?25l     \u001b[90m━━━━━━━━━━━━━━━━━━━━━━━━━━━━━━━━━━━━━━━━\u001b[0m \u001b[32m0.0/1.1 MB\u001b[0m \u001b[31m?\u001b[0m eta \u001b[36m-:--:--\u001b[0m\r\u001b[2K     \u001b[91m━━━━━━━━━━━\u001b[0m\u001b[91m╸\u001b[0m\u001b[90m━━━━━━━━━━━━━━━━━━━━━━━━━━━━\u001b[0m \u001b[32m0.3/1.1 MB\u001b[0m \u001b[31m9.3 MB/s\u001b[0m eta \u001b[36m0:00:01\u001b[0m\r\u001b[2K     \u001b[90m━━━━━━━━━━━━━━━━━━━━━━━━━━━━━━━━━━━━━━━━\u001b[0m \u001b[32m1.1/1.1 MB\u001b[0m \u001b[31m18.7 MB/s\u001b[0m eta \u001b[36m0:00:00\u001b[0m\n",
            "\u001b[?25hRequirement already satisfied: tqdm in /usr/local/lib/python3.10/dist-packages (from torch_geometric) (4.66.4)\n",
            "Requirement already satisfied: numpy in /usr/local/lib/python3.10/dist-packages (from torch_geometric) (1.25.2)\n",
            "Requirement already satisfied: scipy in /usr/local/lib/python3.10/dist-packages (from torch_geometric) (1.11.4)\n",
            "Requirement already satisfied: fsspec in /usr/local/lib/python3.10/dist-packages (from torch_geometric) (2023.6.0)\n",
            "Requirement already satisfied: jinja2 in /usr/local/lib/python3.10/dist-packages (from torch_geometric) (3.1.4)\n",
            "Requirement already satisfied: aiohttp in /usr/local/lib/python3.10/dist-packages (from torch_geometric) (3.9.5)\n",
            "Requirement already satisfied: requests in /usr/local/lib/python3.10/dist-packages (from torch_geometric) (2.31.0)\n",
            "Requirement already satisfied: pyparsing in /usr/local/lib/python3.10/dist-packages (from torch_geometric) (3.1.2)\n",
            "Requirement already satisfied: scikit-learn in /usr/local/lib/python3.10/dist-packages (from torch_geometric) (1.2.2)\n",
            "Requirement already satisfied: psutil>=5.8.0 in /usr/local/lib/python3.10/dist-packages (from torch_geometric) (5.9.5)\n",
            "Requirement already satisfied: aiosignal>=1.1.2 in /usr/local/lib/python3.10/dist-packages (from aiohttp->torch_geometric) (1.3.1)\n",
            "Requirement already satisfied: attrs>=17.3.0 in /usr/local/lib/python3.10/dist-packages (from aiohttp->torch_geometric) (23.2.0)\n",
            "Requirement already satisfied: frozenlist>=1.1.1 in /usr/local/lib/python3.10/dist-packages (from aiohttp->torch_geometric) (1.4.1)\n",
            "Requirement already satisfied: multidict<7.0,>=4.5 in /usr/local/lib/python3.10/dist-packages (from aiohttp->torch_geometric) (6.0.5)\n",
            "Requirement already satisfied: yarl<2.0,>=1.0 in /usr/local/lib/python3.10/dist-packages (from aiohttp->torch_geometric) (1.9.4)\n",
            "Requirement already satisfied: async-timeout<5.0,>=4.0 in /usr/local/lib/python3.10/dist-packages (from aiohttp->torch_geometric) (4.0.3)\n",
            "Requirement already satisfied: MarkupSafe>=2.0 in /usr/local/lib/python3.10/dist-packages (from jinja2->torch_geometric) (2.1.5)\n",
            "Requirement already satisfied: charset-normalizer<4,>=2 in /usr/local/lib/python3.10/dist-packages (from requests->torch_geometric) (3.3.2)\n",
            "Requirement already satisfied: idna<4,>=2.5 in /usr/local/lib/python3.10/dist-packages (from requests->torch_geometric) (3.7)\n",
            "Requirement already satisfied: urllib3<3,>=1.21.1 in /usr/local/lib/python3.10/dist-packages (from requests->torch_geometric) (2.0.7)\n",
            "Requirement already satisfied: certifi>=2017.4.17 in /usr/local/lib/python3.10/dist-packages (from requests->torch_geometric) (2024.6.2)\n",
            "Requirement already satisfied: joblib>=1.1.1 in /usr/local/lib/python3.10/dist-packages (from scikit-learn->torch_geometric) (1.4.2)\n",
            "Requirement already satisfied: threadpoolctl>=2.0.0 in /usr/local/lib/python3.10/dist-packages (from scikit-learn->torch_geometric) (3.5.0)\n",
            "Installing collected packages: torch_geometric\n",
            "Successfully installed torch_geometric-2.5.3\n"
          ]
        }
      ]
    },
    {
      "cell_type": "markdown",
      "source": [
        "# Normalize data And lag feutures"
      ],
      "metadata": {
        "id": "7rqRZxQEEtAD"
      }
    },
    {
      "cell_type": "code",
      "source": [
        "df['Mom1m'] = df['excess_return']\n",
        "df['Y_excess_return'] = df['excess_return']\n",
        "# Remove duplicates while keeping the last occurrence\n",
        "df = df.sort_values('date').drop_duplicates(subset=['date', 'PERMNO'], keep='last')\n",
        "\n",
        "\n",
        "\n",
        "\n",
        "df = df.sort_values(by=['PERMNO', 'date'])\n",
        "# Shift the excess return by one month within each firm\n",
        "\n",
        "# List of column names to lag\n",
        "factor_columns = [\n",
        "    \"Beta\", \"RoE\", \"InvestPPEInv\", \"ShareIss5Y\", \"Accruals\", \"dNoa\",\n",
        "    \"GP\", \"AssetGrowth\",  \"Investment\", \"market_cap_adjusted\", \"excess_return\",\n",
        "    \"BM\", \"CompEquIss\", \"OperProf\",  \"MaxRet\", \"IndMom\", \"DolVol\" ,\"Mom1m\" , \"Mom6m\", \"Mom12m\"\n",
        "]\n",
        "\n",
        "\n",
        "# Loop through each column in the list and shift them forward by one period within each group\n",
        "for column in factor_columns:\n",
        "    df[column] = df.groupby('PERMNO')[column].shift(1)\n",
        "\n",
        "\n",
        "\n",
        "\n",
        "# List of column names to standardize\n",
        "factor_columns = [\n",
        "    \"Beta\", \"RoE\", \"InvestPPEInv\", \"ShareIss5Y\", \"Accruals\", \"dNoa\",\n",
        "    \"GP\", \"AssetGrowth\",  \"Investment\", \"market_cap_adjusted\",\n",
        "    \"BM\", \"CompEquIss\", \"OperProf\",  \"MaxRet\", \"IndMom\", \"DolVol\" ,\"Mom1m\" , \"Mom6m\", \"Mom12m\"\n",
        "]\n",
        "# Compute the mean and standard deviation for each factor column grouped by 'date'\n",
        "means = df.groupby('date')[factor_columns].transform('mean')\n",
        "stds = df.groupby('date')[factor_columns].transform('std')\n",
        "\n",
        "# Standardize the existing columns without creating new ones\n",
        "for column in factor_columns:\n",
        "    df[column] = (df[column] - means[column]) / stds[column]\n",
        "\n",
        "\n",
        "df = df.dropna()"
      ],
      "metadata": {
        "id": "2cfOXYAbExcZ"
      },
      "execution_count": 4,
      "outputs": []
    },
    {
      "cell_type": "markdown",
      "source": [
        "# Convert panel data to graph data for each month"
      ],
      "metadata": {
        "id": "k7VchT3YE-tG"
      }
    },
    {
      "cell_type": "markdown",
      "source": [
        "# Using Absulute Values For Correlation"
      ],
      "metadata": {
        "id": "_KCH-S9eFEzd"
      }
    },
    {
      "cell_type": "markdown",
      "source": [
        "Function construct_graph_with_correlation_sign to construct the graphs based on the Pearson correlation on historical returns. Only alowing for absolute values."
      ],
      "metadata": {
        "id": "LRx_kdX7FnKJ"
      }
    },
    {
      "cell_type": "code",
      "source": [
        "\n",
        "def construct_graph_with_absolute_correlation(df, factor_columns, return_column, W, theta):\n",
        "\n",
        "    original_dates = pd.to_datetime(df['date'])\n",
        "\n",
        "    # Dynamic directory name based on W and theta\n",
        "    save_dir = f'Corrsaved(absolute)_graphs_W{W}_theta{theta}'\n",
        "    if not os.path.exists(save_dir):\n",
        "        os.makedirs(save_dir)\n",
        "\n",
        "\n",
        "    df['formatted_date'] = original_dates.dt.strftime('%Y%m%d').astype(int)\n",
        "    unique_dates = sorted(df['formatted_date'].unique())\n",
        "\n",
        "    # Loop over each datre starting from the Wth date to ensure a full window\n",
        "    for i in range(W - 1, len(unique_dates)):\n",
        "        current_date = unique_dates[i]\n",
        "        window_dates = unique_dates[i - W + 1:i + 1]\n",
        "        window_df = df[df['formatted_date'].isin(window_dates)]\n",
        "\n",
        "        if 'PERMNO' not in window_df.columns or return_column not in window_df.columns:\n",
        "            continue  # Skip this iteration if required columns are missing\n",
        "\n",
        "        pivot_df = window_df.pivot(index='formatted_date', columns='PERMNO', values=return_column)\n",
        "        correlation_matrix = pivot_df.corr().values\n",
        "\n",
        "        abs_corr = np.abs(correlation_matrix)\n",
        "        edge_indices = np.where((abs_corr > theta) & (np.eye(len(df['PERMNO'].unique()), dtype=bool) == False))\n",
        "\n",
        "        edge_index = torch.tensor(np.array(edge_indices), dtype=torch.long)\n",
        "        edge_weights = torch.tensor(abs_corr[edge_indices], dtype=torch.float)\n",
        "\n",
        "        latest_df = df[df['formatted_date'] == current_date]\n",
        "        if 'PERMNO' in latest_df.columns:\n",
        "            latest_attributes = latest_df[['PERMNO'] + factor_columns].set_index('PERMNO').reindex(df['PERMNO'].unique())\n",
        "            node_features_tensor = torch.tensor(latest_attributes.drop(columns='PERMNO', errors='ignore').values, dtype=torch.float)\n",
        "            permno_tensor = torch.tensor(latest_attributes.index.values, dtype=torch.int)\n",
        "\n",
        "            # Ensure 'date' is also saved as a tensor\n",
        "            date_tensor = torch.tensor([current_date] * len(latest_attributes), dtype=torch.long)\n",
        "\n",
        "            graph_data = Data(x=node_features_tensor, edge_index=edge_index, edge_attr=edge_weights, permno=permno_tensor, date=date_tensor)\n",
        "            filename = f\"CorrGraph_{current_date}_W{W}_theta{theta}.pt\"\n",
        "            filepath = os.path.join(save_dir, filename)\n",
        "            torch.save(graph_data, filepath)\n",
        "            print(f\"Graph for {current_date} saved to {filepath}\")\n",
        "            print(f\"Graph for {current_date}: {len(df['PERMNO'].unique())} nodes, {edge_index.size(1) // 2} edges\")\n",
        "        else:\n",
        "            print(f\"Missing 'PERMNO' in latest data for {current_date}\")\n",
        "\n",
        "    # Cleanup to avoid confusion\n",
        "    df.drop('formatted_date', axis=1, inplace=True)\n",
        "\n",
        "factor_columns =[\n",
        "    \"Beta\", \"RoE\", \"InvestPPEInv\", \"ShareIss5Y\", \"Accruals\", \"dNoa\",\n",
        "    \"GP\", \"AssetGrowth\",  \"Investment\", \"market_cap_adjusted\",\n",
        "    \"BM\", \"CompEquIss\", \"OperProf\",  \"MaxRet\", \"IndMom\", \"DolVol\" ,\"Mom1m\" , \"Mom6m\", \"Mom12m\", \"Y_excess_return\"]\n",
        "\n",
        "# Define the return column\n",
        "return_column = \"excess_return\"\n"
      ],
      "metadata": {
        "id": "9JpH5Vn2FJcU"
      },
      "execution_count": 6,
      "outputs": []
    },
    {
      "cell_type": "markdown",
      "source": [
        "Call the Function"
      ],
      "metadata": {
        "id": "sDj0cCIoGAyw"
      }
    },
    {
      "cell_type": "code",
      "source": [
        "\n",
        "# usage\n",
        "Ws = [12, 24, 36, 48, 60]\n",
        "thetas = [0.00001, 0.1, 0.2, 0.3, 0.4, 0.5 , 0.9]\n",
        "for W in Ws:\n",
        "    for theta in thetas:\n",
        "        construct_graph_with_absolute_correlation(df, factor_columns, return_column, W, theta)\n"
      ],
      "metadata": {
        "id": "cANpXzIuGCov",
        "collapsed": true
      },
      "execution_count": null,
      "outputs": []
    },
    {
      "cell_type": "markdown",
      "source": [
        "# Pearson Correlation wich allows for both negative and positive edges"
      ],
      "metadata": {
        "id": "nO_xCoYtGMzx"
      }
    },
    {
      "cell_type": "markdown",
      "source": [
        "Function for pearson correlation: is defined here: construct_graph_with_correlation_sign\n"
      ],
      "metadata": {
        "id": "doqehN22HpXh"
      }
    },
    {
      "cell_type": "code",
      "source": [
        "import os\n",
        "import pandas as pd\n",
        "import numpy as np\n",
        "import torch\n",
        "from torch_geometric.data import Data\n",
        "\n",
        "def construct_graph_with_correlation_sign(df, factor_columns, return_column, W, theta):\n",
        "    # Store the original date format\n",
        "    original_dates = pd.to_datetime(df['date'])\n",
        "\n",
        "    # Dynamic directory name based on W and theta\n",
        "    save_dir = f'Corrsaved(newBest)_graphs_W{W}_theta{theta}'\n",
        "    if not os.path.exists(save_dir):\n",
        "        os.makedirs(save_dir)\n",
        "\n",
        "    # Convert 'date' column to integer format\n",
        "    df['formatted_date'] = original_dates.dt.strftime('%Y%m%d').astype(int)\n",
        "    unique_dates = sorted(df['formatted_date'].unique())\n",
        "\n",
        "    # Loop over each date starting from the Wth date to ensure a full window\n",
        "    for i in range(W - 1, len(unique_dates)):\n",
        "        current_date = unique_dates[i]\n",
        "        window_dates = unique_dates[i - W + 1:i + 1]\n",
        "        window_df = df[df['formatted_date'].isin(window_dates)]\n",
        "\n",
        "        # Skip this iteration if required columns are missing\n",
        "        if 'PERMNO' not in window_df.columns or return_column not in window_df.columns:\n",
        "            continue\n",
        "\n",
        "        # Create pivot table for the return column\n",
        "        pivot_df = window_df.pivot(index='formatted_date', columns='PERMNO', values=return_column)\n",
        "        correlation_matrix = pivot_df.corr().values\n",
        "\n",
        "        # Get absolute values of the correlation matrix\n",
        "        abs_corr = np.abs(correlation_matrix)\n",
        "        edge_indices = np.where((abs_corr > theta) & (np.eye(len(df['PERMNO'].unique()), dtype=bool) == False))\n",
        "\n",
        "        # Convert edge indices and weights to tensors\n",
        "        edge_index = torch.tensor(np.array(edge_indices), dtype=torch.long)\n",
        "        edge_weights = torch.tensor(correlation_matrix[edge_indices], dtype=torch.float)\n",
        "\n",
        "        # Get the latest data for the current date\n",
        "        latest_df = df[df['formatted_date'] == current_date]\n",
        "        if 'PERMNO' in latest_df.columns:\n",
        "            # Prepare node features tensor\n",
        "            latest_attributes = latest_df[['PERMNO'] + factor_columns].set_index('PERMNO').reindex(df['PERMNO'].unique())\n",
        "            node_features_tensor = torch.tensor(latest_attributes.drop(columns='PERMNO', errors='ignore').values, dtype=torch.float)\n",
        "            permno_tensor = torch.tensor(latest_attributes.index.values, dtype=torch.int)\n",
        "\n",
        "            # Ensure 'date' is also saved as a tensor\n",
        "            date_tensor = torch.tensor([current_date] * len(latest_attributes), dtype=torch.long)\n",
        "\n",
        "            # Create graph data object\n",
        "            graph_data = Data(x=node_features_tensor, edge_index=edge_index, edge_attr=edge_weights, permno=permno_tensor, date=date_tensor)\n",
        "            filename = f\"CorrGraph_{current_date}_W{W}_theta{theta}.pt\"\n",
        "            filepath = os.path.join(save_dir, filename)\n",
        "            torch.save(graph_data, filepath)\n",
        "            print(f\"Graph for {current_date} saved to {filepath}\")\n",
        "            print(f\"Graph for {current_date}: {len(df['PERMNO'].unique())} nodes, {edge_index.size(1) // 2} edges\")\n",
        "        else:\n",
        "            print(f\"Missing 'PERMNO' in latest data for {current_date}\")\n",
        "\n",
        "    # Cleanup to avoid confusion\n",
        "    df.drop('formatted_date', axis=1, inplace=True)\n",
        "\n",
        "# Define factor columns\n",
        "factor_columns =[\n",
        "    \"Beta\", \"RoE\", \"InvestPPEInv\", \"ShareIss5Y\", \"Accruals\", \"dNoa\",\n",
        "    \"GP\", \"AssetGrowth\", \"Investment\", \"market_cap_adjusted\",\n",
        "    \"BM\", \"CompEquIss\", \"OperProf\", \"MaxRet\", \"IndMom\", \"DolVol\", \"Mom1m\", \"Mom6m\", \"Mom12m\", \"Y_excess_return\"\n",
        "]\n",
        "\n",
        "# Define the return column\n",
        "return_column = \"excess_return\"\n"
      ],
      "metadata": {
        "id": "rYK1rIOFGMPU"
      },
      "execution_count": null,
      "outputs": []
    },
    {
      "cell_type": "markdown",
      "source": [
        "Call the Function specifying the rolling window size (W), and the cut off."
      ],
      "metadata": {
        "id": "AUn25xcYHxLN"
      }
    },
    {
      "cell_type": "code",
      "source": [
        "\n",
        "# Usage\n",
        "Ws = [12, 24, 36, 48, 60]\n",
        "thetas = [0.00001, 0.1, 0.2, 0.3, 0.4, 0.5 , 0.9]\n",
        "for W in Ws:\n",
        "    for theta in thetas:\n",
        "        construct_graph_with_correlation_sign(df, factor_columns, return_column, W, theta)\n",
        "\n"
      ],
      "metadata": {
        "id": "NQG199w8Hbdq"
      },
      "execution_count": null,
      "outputs": []
    }
  ]
}